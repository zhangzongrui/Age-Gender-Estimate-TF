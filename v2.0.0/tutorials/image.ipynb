{
  "cells": [
    {
      "cell_type": "markdown",
      "metadata": {
        "id": "usBM7wI4UAgq"
      },
      "source": [
        "# Image Classification with PyTorch and Cleanlab\n"
      ]
    },
    {
      "cell_type": "markdown",
      "metadata": {
        "id": "vBS5iUKLUAgv"
      },
      "source": [
        "This 5-minute quickstart tutorial demonstrates how to find potential label errors in image classification data. Here we use the MNIST dataset containing 70,000 images of handwritten digits from 0 to 9.\n",
        "\n",
        "**Overview of what we'll do in this tutorial:**\n",
        "\n",
        "- Build a simple [PyTorch](https://pytorch.org/) neural net and wrap it with [skorch](https://skorch.readthedocs.io/) to make it scikit-learn compatible.\n",
        "\n",
        "- Use this model to compute out-of-sample predicted probabilities, `pred_probs`, via cross-validation.\n",
        "\n",
        "- Compute a list of potential label errors with cleanlab's `find_label_issues` method.\n"
      ]
    },
    {
      "cell_type": "markdown",
      "metadata": {
        "id": "9NRNwufnUAgw"
      },
      "source": [
        "## 1. Install the required dependencies\n"
      ]
    },
    {
      "cell_type": "markdown",
      "metadata": {
        "id": "7mbx_oBEUAgw"
      },
      "source": [
        "You can use `pip` to install all packages required for this tutorial as follows:\n",
        "\n",
        "```ipython3\n",
        "!pip install matplotlib torch torchvision skorch\n",
        "!pip install cleanlab\n",
        "# Make sure to install the version corresponding to this tutorial\n",
        "# E.g. if viewing master branch documentation:\n",
        "#     !pip install git+https://github.com/cleanlab/cleanlab.git\n",
        "```"
      ]
    },
    {
      "cell_type": "code",
      "execution_count": null,
      "metadata": {
        "execution": {
          "iopub.execute_input": "2022-04-20T20:25:18.004029Z",
          "iopub.status.busy": "2022-04-20T20:25:18.003552Z",
          "iopub.status.idle": "2022-04-20T20:25:19.346298Z",
          "shell.execute_reply": "2022-04-20T20:25:19.345672Z"
        },
        "nbsphinx": "hidden",
        "id": "td8cc4dwUAgx"
      },
      "outputs": [],
      "source": [
        "# Package installation (hidden on docs website).\n",
        "# If running on Colab, may want to use GPU (select: Runtime > Change runtime type > Hardware accelerator > GPU)\n",
        "\n",
        "dependencies = [\"cleanlab\", \"matplotlib\", \"torch\", \"torchvision\", \"skorch\"]\n",
        "\n",
        "if \"google.colab\" in str(get_ipython()):  # Check if it's running in Google Colab\n",
        "    %pip install cleanlab==v2.0.0\n",
        "    cmd = ' '.join([dep for dep in dependencies if dep != \"cleanlab\"])\n",
        "    %pip install $cmd\n",
        "else:\n",
        "    missing_dependencies = []\n",
        "    for dependency in dependencies:\n",
        "        try:\n",
        "            __import__(dependency)\n",
        "        except ImportError:\n",
        "            missing_dependencies.append(dependency)\n",
        "\n",
        "    if len(missing_dependencies) > 0:\n",
        "        print(\"Missing required dependencies:\")\n",
        "        print(*missing_dependencies, sep=\", \")\n",
        "        print(\"\\nPlease install them before running the rest of this notebook.\")"
      ]
    },
    {
      "cell_type": "markdown",
      "metadata": {
        "id": "QJF4HMVYUAgy"
      },
      "source": [
        "Let's first set some seeds for reproducibility."
      ]
    },
    {
      "cell_type": "code",
      "execution_count": null,
      "metadata": {
        "execution": {
          "iopub.execute_input": "2022-04-20T20:25:19.349941Z",
          "iopub.status.busy": "2022-04-20T20:25:19.349602Z",
          "iopub.status.idle": "2022-04-20T20:25:19.355761Z",
          "shell.execute_reply": "2022-04-20T20:25:19.355246Z"
        },
        "id": "6c3hXX-yUAgz"
      },
      "outputs": [],
      "source": [
        "import numpy as np\n",
        "import torch\n",
        "import warnings\n",
        "\n",
        "SEED = 123\n",
        "np.random.seed(SEED)\n",
        "torch.manual_seed(SEED)\n",
        "torch.backends.cudnn.deterministic = True\n",
        "torch.backends.cudnn.benchmark = False\n",
        "torch.cuda.manual_seed_all(SEED)\n",
        "warnings.filterwarnings(\"ignore\", \"Lazy modules are a new feature.*\")"
      ]
    },
    {
      "cell_type": "markdown",
      "metadata": {
        "id": "FBxYOyewUAg0"
      },
      "source": [
        "## 2. Fetch and scale the MNIST dataset\n"
      ]
    },
    {
      "cell_type": "code",
      "execution_count": null,
      "metadata": {
        "execution": {
          "iopub.execute_input": "2022-04-20T20:25:19.358725Z",
          "iopub.status.busy": "2022-04-20T20:25:19.358368Z",
          "iopub.status.idle": "2022-04-20T20:26:21.329649Z",
          "shell.execute_reply": "2022-04-20T20:26:21.328992Z"
        },
        "id": "-_M8w13jUAg0"
      },
      "outputs": [],
      "source": [
        "from sklearn.datasets import fetch_openml\n",
        "\n",
        "mnist = fetch_openml(\"mnist_784\")  # Fetch the MNIST dataset\n",
        "\n",
        "X = mnist.data.astype(\"float32\").to_numpy() # 2D array (images are flattened into 1D)\n",
        "X /= 255.0  # Scale the features to the [0, 1] range\n",
        "X = X.reshape(len(X), 1, 28, 28)  # reshape into [N, C, H, W] for PyTorch\n",
        "\n",
        "y = mnist.target.astype(\"int64\").to_numpy()  # 1D array of labels"
      ]
    },
    {
      "cell_type": "markdown",
      "metadata": {
        "id": "ZjEvL5FfUAg1"
      },
      "source": [
        "<div class=\"alert alert-info\">\n",
        "Bringing Your Own Data (BYOD)?\n",
        "\n",
        "Assign your data's features to variable `X` and its labels to variable `y` instead.\n",
        "\n",
        "Your classes (and entries of `y`) should be represented as integer indices 0, 1, ..., num_classes - 1.\n",
        "\n",
        "</div>\n"
      ]
    },
    {
      "cell_type": "markdown",
      "metadata": {
        "id": "l56bn5QYUAg1"
      },
      "source": [
        "## 3. Define a classification model\n"
      ]
    },
    {
      "cell_type": "markdown",
      "metadata": {
        "id": "U4rhIQ4LUAg1"
      },
      "source": [
        "Here, we define a simple neural network with PyTorch.\n"
      ]
    },
    {
      "cell_type": "code",
      "execution_count": null,
      "metadata": {
        "execution": {
          "iopub.execute_input": "2022-04-20T20:26:21.333080Z",
          "iopub.status.busy": "2022-04-20T20:26:21.332744Z",
          "iopub.status.idle": "2022-04-20T20:26:21.338474Z",
          "shell.execute_reply": "2022-04-20T20:26:21.338066Z"
        },
        "id": "A3B0z8MEUAg2"
      },
      "outputs": [],
      "source": [
        "from torch import nn\n",
        "\n",
        "class ClassifierModule(nn.Module):\n",
        "    def __init__(self):\n",
        "        super().__init__()\n",
        "\n",
        "        self.cnn = nn.Sequential(\n",
        "            nn.Conv2d(1, 6, 3),\n",
        "            nn.ReLU(),\n",
        "            nn.BatchNorm2d(6),\n",
        "            nn.MaxPool2d(kernel_size=2, stride=2),\n",
        "            nn.Conv2d(6, 16, 3),\n",
        "            nn.ReLU(),\n",
        "            nn.BatchNorm2d(16),\n",
        "            nn.MaxPool2d(kernel_size=2, stride=2),\n",
        "        )\n",
        "        self.out = nn.Sequential(\n",
        "            nn.Flatten(),\n",
        "            nn.LazyLinear(128),\n",
        "            nn.ReLU(),\n",
        "            nn.Linear(128, 10),\n",
        "            nn.Softmax(dim=-1),\n",
        "        )\n",
        "\n",
        "    def forward(self, X):\n",
        "        X = self.cnn(X)\n",
        "        X = self.out(X)\n",
        "        return X"
      ]
    },
    {
      "cell_type": "markdown",
      "metadata": {
        "id": "QUgUEqKHUAg2"
      },
      "source": [
        "## 4. Ensure your classifier is scikit-learn compatible\n"
      ]
    },
    {
      "cell_type": "markdown",
      "metadata": {
        "id": "dIA3S4SHUAg2"
      },
      "source": [
        "As some cleanlab features require scikit-learn compatibility, we adapt the above PyTorch neural net accordingly. [skorch](https://skorch.readthedocs.io) is a convenient package that helps with this. Alternatively, you can also easily wrap an arbitrary model to be scikit-learn compatible as demonstrated [here](https://github.com/cleanlab/cleanlab#use-cleanlab-with-any-model-tensorflow-pytorch-sklearn-xgboost-etc)."
      ]
    },
    {
      "cell_type": "code",
      "execution_count": null,
      "metadata": {
        "execution": {
          "iopub.execute_input": "2022-04-20T20:26:21.341204Z",
          "iopub.status.busy": "2022-04-20T20:26:21.340831Z",
          "iopub.status.idle": "2022-04-20T20:26:21.343853Z",
          "shell.execute_reply": "2022-04-20T20:26:21.343297Z"
        },
        "id": "Lur-C2xFUAg3"
      },
      "outputs": [],
      "source": [
        "from skorch import NeuralNetClassifier\n",
        "\n",
        "model_skorch = NeuralNetClassifier(ClassifierModule)"
      ]
    },
    {
      "cell_type": "markdown",
      "metadata": {
        "id": "QglkgBcpUAg3"
      },
      "source": [
        "## 5. Compute out-of-sample predicted probabilities\n"
      ]
    },
    {
      "cell_type": "markdown",
      "metadata": {
        "id": "hLIPzYZhUAg3"
      },
      "source": [
        "If we'd like cleanlab to identify potential label errors in the whole dataset and not just the training set, we can consider using the entire dataset when computing the out-of-sample predicted probabilities, `pred_probs`, via cross-validation.\n"
      ]
    },
    {
      "cell_type": "code",
      "execution_count": null,
      "metadata": {
        "execution": {
          "iopub.execute_input": "2022-04-20T20:26:21.346948Z",
          "iopub.status.busy": "2022-04-20T20:26:21.346579Z",
          "iopub.status.idle": "2022-04-20T20:28:17.784733Z",
          "shell.execute_reply": "2022-04-20T20:28:17.784135Z"
        },
        "id": "8ekvudWjUAg3",
        "outputId": "038f1052-eaf6-4ca9-ed25-a4bc5cc2250f"
      },
      "outputs": [
        {
          "name": "stdout",
          "output_type": "stream",
          "text": [
            "  epoch    train_loss    valid_acc    valid_loss     dur\n",
            "-------  ------------  -----------  ------------  ------\n",
            "      1        \u001b[36m0.6908\u001b[0m       \u001b[32m0.9136\u001b[0m        \u001b[35m0.3099\u001b[0m  3.8333\n"
          ]
        },
        {
          "name": "stdout",
          "output_type": "stream",
          "text": [
            "      2        \u001b[36m0.2112\u001b[0m       \u001b[32m0.9412\u001b[0m        \u001b[35m0.1999\u001b[0m  3.5987\n"
          ]
        },
        {
          "name": "stdout",
          "output_type": "stream",
          "text": [
            "      3        \u001b[36m0.1521\u001b[0m       \u001b[32m0.9514\u001b[0m        \u001b[35m0.1575\u001b[0m  3.7921\n"
          ]
        },
        {
          "name": "stdout",
          "output_type": "stream",
          "text": [
            "      4        \u001b[36m0.1240\u001b[0m       \u001b[32m0.9593\u001b[0m        \u001b[35m0.1332\u001b[0m  3.8446\n"
          ]
        },
        {
          "name": "stdout",
          "output_type": "stream",
          "text": [
            "      5        \u001b[36m0.1066\u001b[0m       \u001b[32m0.9634\u001b[0m        \u001b[35m0.1178\u001b[0m  3.8152\n"
          ]
        },
        {
          "name": "stdout",
          "output_type": "stream",
          "text": [
            "      6        \u001b[36m0.0948\u001b[0m       \u001b[32m0.9661\u001b[0m        \u001b[35m0.1072\u001b[0m  3.6773\n"
          ]
        },
        {
          "name": "stdout",
          "output_type": "stream",
          "text": [
            "      7        \u001b[36m0.0860\u001b[0m       \u001b[32m0.9683\u001b[0m        \u001b[35m0.0995\u001b[0m  3.7374\n"
          ]
        },
        {
          "name": "stdout",
          "output_type": "stream",
          "text": [
            "      8        \u001b[36m0.0792\u001b[0m       \u001b[32m0.9703\u001b[0m        \u001b[35m0.0933\u001b[0m  3.8420\n"
          ]
        },
        {
          "name": "stdout",
          "output_type": "stream",
          "text": [
            "      9        \u001b[36m0.0737\u001b[0m       \u001b[32m0.9724\u001b[0m        \u001b[35m0.0887\u001b[0m  4.0832\n"
          ]
        },
        {
          "name": "stdout",
          "output_type": "stream",
          "text": [
            "     10        \u001b[36m0.0691\u001b[0m       \u001b[32m0.9736\u001b[0m        \u001b[35m0.0848\u001b[0m  3.6481\n"
          ]
        },
        {
          "name": "stdout",
          "output_type": "stream",
          "text": [
            "  epoch    train_loss    valid_acc    valid_loss     dur\n",
            "-------  ------------  -----------  ------------  ------\n",
            "      1        \u001b[36m0.7043\u001b[0m       \u001b[32m0.9249\u001b[0m        \u001b[35m0.2786\u001b[0m  3.7278\n"
          ]
        },
        {
          "name": "stdout",
          "output_type": "stream",
          "text": [
            "      2        \u001b[36m0.1907\u001b[0m       \u001b[32m0.9465\u001b[0m        \u001b[35m0.1817\u001b[0m  3.6730\n"
          ]
        },
        {
          "name": "stdout",
          "output_type": "stream",
          "text": [
            "      3        \u001b[36m0.1355\u001b[0m       \u001b[32m0.9561\u001b[0m        \u001b[35m0.1476\u001b[0m  3.6867\n"
          ]
        },
        {
          "name": "stdout",
          "output_type": "stream",
          "text": [
            "      4        \u001b[36m0.1100\u001b[0m       \u001b[32m0.9616\u001b[0m        \u001b[35m0.1290\u001b[0m  3.6845\n"
          ]
        },
        {
          "name": "stdout",
          "output_type": "stream",
          "text": [
            "      5        \u001b[36m0.0943\u001b[0m       \u001b[32m0.9644\u001b[0m        \u001b[35m0.1168\u001b[0m  3.7497\n"
          ]
        },
        {
          "name": "stdout",
          "output_type": "stream",
          "text": [
            "      6        \u001b[36m0.0834\u001b[0m       \u001b[32m0.9685\u001b[0m        \u001b[35m0.1079\u001b[0m  3.7851\n"
          ]
        },
        {
          "name": "stdout",
          "output_type": "stream",
          "text": [
            "      7        \u001b[36m0.0752\u001b[0m       \u001b[32m0.9701\u001b[0m        \u001b[35m0.1015\u001b[0m  3.7732\n"
          ]
        },
        {
          "name": "stdout",
          "output_type": "stream",
          "text": [
            "      8        \u001b[36m0.0687\u001b[0m       \u001b[32m0.9711\u001b[0m        \u001b[35m0.0965\u001b[0m  3.6264\n"
          ]
        },
        {
          "name": "stdout",
          "output_type": "stream",
          "text": [
            "      9        \u001b[36m0.0634\u001b[0m       \u001b[32m0.9724\u001b[0m        \u001b[35m0.0921\u001b[0m  3.6344\n"
          ]
        },
        {
          "name": "stdout",
          "output_type": "stream",
          "text": [
            "     10        \u001b[36m0.0589\u001b[0m       \u001b[32m0.9734\u001b[0m        \u001b[35m0.0889\u001b[0m  3.6933\n"
          ]
        },
        {
          "name": "stdout",
          "output_type": "stream",
          "text": [
            "  epoch    train_loss    valid_acc    valid_loss     dur\n",
            "-------  ------------  -----------  ------------  ------\n",
            "      1        \u001b[36m0.7931\u001b[0m       \u001b[32m0.9115\u001b[0m        \u001b[35m0.3373\u001b[0m  3.6931\n"
          ]
        },
        {
          "name": "stdout",
          "output_type": "stream",
          "text": [
            "      2        \u001b[36m0.2282\u001b[0m       \u001b[32m0.9487\u001b[0m        \u001b[35m0.1950\u001b[0m  3.6519\n"
          ]
        },
        {
          "name": "stdout",
          "output_type": "stream",
          "text": [
            "      3        \u001b[36m0.1533\u001b[0m       \u001b[32m0.9589\u001b[0m        \u001b[35m0.1499\u001b[0m  3.7697\n"
          ]
        },
        {
          "name": "stdout",
          "output_type": "stream",
          "text": [
            "      4        \u001b[36m0.1218\u001b[0m       \u001b[32m0.9642\u001b[0m        \u001b[35m0.1277\u001b[0m  3.7316\n"
          ]
        },
        {
          "name": "stdout",
          "output_type": "stream",
          "text": [
            "      5        \u001b[36m0.1032\u001b[0m       \u001b[32m0.9680\u001b[0m        \u001b[35m0.1136\u001b[0m  3.7115\n"
          ]
        },
        {
          "name": "stdout",
          "output_type": "stream",
          "text": [
            "      6        \u001b[36m0.0904\u001b[0m       \u001b[32m0.9704\u001b[0m        \u001b[35m0.1038\u001b[0m  3.6836\n"
          ]
        },
        {
          "name": "stdout",
          "output_type": "stream",
          "text": [
            "      7        \u001b[36m0.0809\u001b[0m       \u001b[32m0.9731\u001b[0m        \u001b[35m0.0963\u001b[0m  4.1410\n"
          ]
        },
        {
          "name": "stdout",
          "output_type": "stream",
          "text": [
            "      8        \u001b[36m0.0736\u001b[0m       \u001b[32m0.9745\u001b[0m        \u001b[35m0.0905\u001b[0m  3.7695\n"
          ]
        },
        {
          "name": "stdout",
          "output_type": "stream",
          "text": [
            "      9        \u001b[36m0.0678\u001b[0m       \u001b[32m0.9762\u001b[0m        \u001b[35m0.0859\u001b[0m  3.8166\n"
          ]
        },
        {
          "name": "stdout",
          "output_type": "stream",
          "text": [
            "     10        \u001b[36m0.0630\u001b[0m       \u001b[32m0.9766\u001b[0m        \u001b[35m0.0826\u001b[0m  3.8172\n"
          ]
        }
      ],
      "source": [
        "from sklearn.model_selection import cross_val_predict\n",
        "\n",
        "num_crossval_folds = 3  # for efficiency; values like 5 or 10 will generally work better\n",
        "pred_probs = cross_val_predict(\n",
        "    model_skorch,\n",
        "    X,\n",
        "    y,\n",
        "    cv=num_crossval_folds,\n",
        "    method=\"predict_proba\",\n",
        ")"
      ]
    },
    {
      "cell_type": "markdown",
      "metadata": {
        "id": "-U9x9vFXUAg4"
      },
      "source": [
        "An additional benefit of cross-validation is that it facilitates more reliable evaluation of our model than a single training/validation split."
      ]
    },
    {
      "cell_type": "code",
      "execution_count": null,
      "metadata": {
        "execution": {
          "iopub.execute_input": "2022-04-20T20:28:17.788404Z",
          "iopub.status.busy": "2022-04-20T20:28:17.788062Z",
          "iopub.status.idle": "2022-04-20T20:28:17.798942Z",
          "shell.execute_reply": "2022-04-20T20:28:17.798502Z"
        },
        "id": "ToD-20QtUAg4",
        "outputId": "0118570b-ec40-4435-a380-d4435767201f"
      },
      "outputs": [
        {
          "name": "stdout",
          "output_type": "stream",
          "text": [
            "Cross-validated estimate of accuracy on held-out data: 0.9752142857142857\n"
          ]
        }
      ],
      "source": [
        "from sklearn.metrics import accuracy_score\n",
        "\n",
        "predicted_labels = pred_probs.argmax(axis=1)\n",
        "acc = accuracy_score(y, predicted_labels)\n",
        "print(f\"Cross-validated estimate of accuracy on held-out data: {acc}\")"
      ]
    },
    {
      "cell_type": "markdown",
      "metadata": {
        "id": "5JzK6dbRUAg5"
      },
      "source": [
        "## 6. Use cleanlab to find label issues\n"
      ]
    },
    {
      "cell_type": "markdown",
      "metadata": {
        "id": "xNwTuJS3UAg5"
      },
      "source": [
        "Based on the given labels and out-of-sample predicted probabilities, cleanlab can quickly help us identify label issues in our dataset. Here we request that the indices of the identified label issues be sorted by cleanlab's self-confidence score, which measures the quality of each given label via the probability assigned to it in our model's prediction."
      ]
    },
    {
      "cell_type": "code",
      "execution_count": null,
      "metadata": {
        "execution": {
          "iopub.execute_input": "2022-04-20T20:28:17.802155Z",
          "iopub.status.busy": "2022-04-20T20:28:17.801768Z",
          "iopub.status.idle": "2022-04-20T20:28:18.976854Z",
          "shell.execute_reply": "2022-04-20T20:28:18.976274Z"
        },
        "id": "1n2AR5u3UAg5",
        "outputId": "e9ba42f1-d709-46df-eb40-f37e8dc061fe"
      },
      "outputs": [
        {
          "name": "stdout",
          "output_type": "stream",
          "text": [
            "Cleanlab found 145 label issues.\n",
            "Top 15 most likely label errors: \n",
            " [59915 24798 19124 53216  2720 59701 50340  7010 40976 16376 23824   500\n",
            " 44484  8729 31134]\n"
          ]
        }
      ],
      "source": [
        "from cleanlab.filter import find_label_issues\n",
        "\n",
        "ranked_label_issues = find_label_issues(\n",
        "    y,\n",
        "    pred_probs,\n",
        "    return_indices_ranked_by=\"self_confidence\",\n",
        ")\n",
        "\n",
        "print(f\"Cleanlab found {len(ranked_label_issues)} label issues.\")\n",
        "print(f\"Top 15 most likely label errors: \\n {ranked_label_issues[:15]}\")"
      ]
    },
    {
      "cell_type": "markdown",
      "metadata": {
        "id": "Ud-SVpuvUAg5"
      },
      "source": [
        "`ranked_label_issues` is a list of indices corresponding to examples that are worth inspecting more closely. To help visualize specific examples, we define a `plot_examples` function (can skip these details)."
      ]
    },
    {
      "cell_type": "markdown",
      "metadata": {
        "id": "Veee-UvYUAg5"
      },
      "source": [
        "<details><summary>Below is the code used for plotting.</summary>\n",
        "\n",
        "```\n",
        "\n",
        "# Note: This pulldown content is for docs.cleanlab.ai, if running on local Jupyter or Colab, please ignore it.\n",
        "\n",
        "import matplotlib.pyplot as plt\n",
        "\n",
        "def plot_examples(id_iter, nrows=1, ncols=1):\n",
        "    for count, id in enumerate(id_iter):\n",
        "        plt.subplot(nrows, ncols, count + 1)\n",
        "        plt.imshow(X[id].reshape(28, 28), cmap=\"gray\")\n",
        "        plt.title(f\"id: {id} \\n label: {y[id]}\")\n",
        "        plt.axis(\"off\")\n",
        "\n",
        "    plt.tight_layout(h_pad=2.0)\n",
        "\n",
        "```\n",
        "</details>"
      ]
    },
    {
      "cell_type": "code",
      "execution_count": null,
      "metadata": {
        "execution": {
          "iopub.execute_input": "2022-04-20T20:28:18.980490Z",
          "iopub.status.busy": "2022-04-20T20:28:18.979891Z",
          "iopub.status.idle": "2022-04-20T20:28:20.729042Z",
          "shell.execute_reply": "2022-04-20T20:28:20.728354Z"
        },
        "nbsphinx": "hidden",
        "id": "81_BXH4iUAg6"
      },
      "outputs": [],
      "source": [
        "import matplotlib.pyplot as plt\n",
        "\n",
        "def plot_examples(id_iter, nrows=1, ncols=1):\n",
        "    for count, id in enumerate(id_iter):\n",
        "        plt.subplot(nrows, ncols, count + 1)\n",
        "        plt.imshow(X[id].reshape(28, 28), cmap=\"gray\")\n",
        "        plt.title(f\"id: {id} \\n label: {y[id]}\")\n",
        "        plt.axis(\"off\")\n",
        "\n",
        "    plt.tight_layout(h_pad=2.0)"
      ]
    },
    {
      "cell_type": "markdown",
      "metadata": {
        "id": "A9X5oxB-UAg6"
      },
      "source": [
        "Let's look at the top 15 examples cleanlab thinks are most likely to be incorrectly labeled. We can see a few label errors and odd edge cases. Feel free to change the values below to display more/fewer examples."
      ]
    },
    {
      "cell_type": "code",
      "execution_count": null,
      "metadata": {
        "execution": {
          "iopub.execute_input": "2022-04-20T20:28:20.732645Z",
          "iopub.status.busy": "2022-04-20T20:28:20.732283Z",
          "iopub.status.idle": "2022-04-20T20:28:21.303302Z",
          "shell.execute_reply": "2022-04-20T20:28:21.302492Z"
        },
        "id": "pk6p8362UAg6",
        "outputId": "1c6e8f89-729c-4c37-caf7-9720e76b2398"
      },
      "outputs": [
        {
          "data": {
            "image/png": "[encoded data removed]",
            "text/plain": [
              "<Figure size 432x288 with 15 Axes>"
            ]
          },
          "metadata": {
            "needs_background": "light"
          },
          "output_type": "display_data"
        }
      ],
      "source": [
        "plot_examples(ranked_label_issues[range(15)], 3, 5)"
      ]
    },
    {
      "cell_type": "markdown",
      "metadata": {
        "id": "9-ZeL-JvUAg6"
      },
      "source": [
        "Let's zoom into some specific examples from the above set:"
      ]
    },
    {
      "cell_type": "markdown",
      "metadata": {
        "id": "1jpNTQVNUAg6"
      },
      "source": [
        "Given label is **4** but looks more like a **7**:\n"
      ]
    },
    {
      "cell_type": "code",
      "execution_count": null,
      "metadata": {
        "execution": {
          "iopub.execute_input": "2022-04-20T20:28:21.306478Z",
          "iopub.status.busy": "2022-04-20T20:28:21.306148Z",
          "iopub.status.idle": "2022-04-20T20:28:21.359535Z",
          "shell.execute_reply": "2022-04-20T20:28:21.358715Z"
        },
        "id": "OS21NMfqUAg6",
        "outputId": "216c4025-3488-4561-8fe1-5c39906ff9f2"
      },
      "outputs": [
        {
          "data": {
            "image/png": "[encoded data removed]",
            "text/plain": [
              "<Figure size 432x288 with 1 Axes>"
            ]
          },
          "metadata": {
            "needs_background": "light"
          },
          "output_type": "display_data"
        }
      ],
      "source": [
        "plot_examples([59915])"
      ]
    },
    {
      "cell_type": "markdown",
      "metadata": {
        "id": "PgiXOZ5zUAg7"
      },
      "source": [
        "Given label is **4** but also looks like **9**:\n"
      ]
    },
    {
      "cell_type": "code",
      "execution_count": null,
      "metadata": {
        "execution": {
          "iopub.execute_input": "2022-04-20T20:28:21.362626Z",
          "iopub.status.busy": "2022-04-20T20:28:21.362303Z",
          "iopub.status.idle": "2022-04-20T20:28:21.414566Z",
          "shell.execute_reply": "2022-04-20T20:28:21.414002Z"
        },
        "id": "Ta2ptpjZUAg7",
        "outputId": "674822c5-1481-4908-be3a-494fa903b450"
      },
      "outputs": [
        {
          "data": {
            "image/png": "[encoded data removed]",
            "text/plain": [
              "<Figure size 432x288 with 1 Axes>"
            ]
          },
          "metadata": {
            "needs_background": "light"
          },
          "output_type": "display_data"
        }
      ],
      "source": [
        "plot_examples([24798])"
      ]
    },
    {
      "cell_type": "markdown",
      "metadata": {
        "id": "aXamHO7TUAg7"
      },
      "source": [
        "A very odd looking **5**:\n"
      ]
    },
    {
      "cell_type": "code",
      "execution_count": null,
      "metadata": {
        "execution": {
          "iopub.execute_input": "2022-04-20T20:28:21.417509Z",
          "iopub.status.busy": "2022-04-20T20:28:21.417321Z",
          "iopub.status.idle": "2022-04-20T20:28:21.471354Z",
          "shell.execute_reply": "2022-04-20T20:28:21.470773Z"
        },
        "id": "XF_UYnKGUAg7",
        "outputId": "6bf41b27-7dca-4966-c1e6-5973f41686e8"
      },
      "outputs": [
        {
          "data": {
            "image/png": "[encoded data removed]",
            "text/plain": [
              "<Figure size 432x288 with 1 Axes>"
            ]
          },
          "metadata": {
            "needs_background": "light"
          },
          "output_type": "display_data"
        }
      ],
      "source": [
        "plot_examples([59701])"
      ]
    },
    {
      "cell_type": "markdown",
      "metadata": {
        "id": "wOE_p4VMUAg7"
      },
      "source": [
        "Given label is **3** but could be a **7**:"
      ]
    },
    {
      "cell_type": "code",
      "execution_count": null,
      "metadata": {
        "execution": {
          "iopub.execute_input": "2022-04-20T20:28:21.474284Z",
          "iopub.status.busy": "2022-04-20T20:28:21.474096Z",
          "iopub.status.idle": "2022-04-20T20:28:21.525422Z",
          "shell.execute_reply": "2022-04-20T20:28:21.524855Z"
        },
        "id": "PrGVW5JhUAg7",
        "outputId": "92016b2c-8be3-4c7a-dc1b-e86b0264f684"
      },
      "outputs": [
        {
          "data": {
            "image/png": "[encoded data removed]",
            "text/plain": [
              "<Figure size 432x288 with 1 Axes>"
            ]
          },
          "metadata": {
            "needs_background": "light"
          },
          "output_type": "display_data"
        }
      ],
      "source": [
        "plot_examples([50340])"
      ]
    },
    {
      "cell_type": "markdown",
      "metadata": {
        "id": "ITlO_dFQUAg8"
      },
      "source": [
        "cleanlab has shortlisted the most likely label errors to speed up your data cleaning process. With this list, you can decide whether to fix label issues or prune some of these examples from the dataset. \n",
        "\n",
        "You can see that even widely-used datasets like MNIST contain problematic labels. Never blindly trust your data! You should always check it for potential issues, many of which can be easily identified by cleanlab.\n"
      ]
    },
    {
      "cell_type": "code",
      "execution_count": null,
      "metadata": {
        "execution": {
          "iopub.execute_input": "2022-04-20T20:28:21.528390Z",
          "iopub.status.busy": "2022-04-20T20:28:21.528148Z",
          "iopub.status.idle": "2022-04-20T20:28:21.532903Z",
          "shell.execute_reply": "2022-04-20T20:28:21.532390Z"
        },
        "nbsphinx": "hidden",
        "id": "7_Pt05HOUAg8"
      },
      "outputs": [],
      "source": [
        "# Note: This cell is only for docs.cleanlab.ai, if running on local Jupyter or Colab, please ignore it.\n",
        "\n",
        "highlighted_indices = [59915, 24798, 59701, 50340]  # verify these examples were found by find_label_issues\n",
        "if not all(x in ranked_label_issues for x in highlighted_indices):\n",
        "    raise Exception(\"Some highlighted examples are missing from ranked_label_issues.\")"
      ]
    }
  ],
  "metadata": {
    "interpreter": {
      "hash": "ced20e3e49bb4fa4ce8ad38f8f2535b7fc4c39b2b89554502b5dbdad1ad67eda"
    },
    "kernelspec": {
      "display_name": "Python 3 (ipykernel)",
      "language": "python",
      "name": "python3"
    },
    "language_info": {
      "codemirror_mode": {
        "name": "ipython",
        "version": 3
      },
      "file_extension": ".py",
      "mimetype": "text/x-python",
      "name": "python",
      "nbconvert_exporter": "python",
      "pygments_lexer": "ipython3",
      "version": "3.8.12"
    },
    "colab": {
      "name": "image.ipynb",
      "provenance": []
    }
  },
  "nbformat": 4,
  "nbformat_minor": 0
}